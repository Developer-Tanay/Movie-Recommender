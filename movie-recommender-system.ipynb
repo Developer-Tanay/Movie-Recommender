{
 "cells": [
  {
   "cell_type": "code",
   "execution_count": null,
   "id": "d6ed6213",
   "metadata": {
    "jupyter": {
     "is_executing": true
    }
   },
   "outputs": [],
   "source": [
    "import numpy as np\n",
    "import pandas as pd"
   ]
  },
  {
   "cell_type": "code",
   "execution_count": null,
   "id": "1d43721a",
   "metadata": {},
   "outputs": [],
   "source": [
    "movies = pd.read_csv(\"Datasets/tmdb_5000_movies.csv\")\n",
    "credits = pd.read_csv(\"Datasets/tmdb_5000_credits.csv\")"
   ]
  },
  {
   "cell_type": "code",
   "execution_count": null,
   "id": "6353b920",
   "metadata": {},
   "outputs": [],
   "source": [
    "movies.head(1)"
   ]
  },
  {
   "cell_type": "code",
   "execution_count": null,
   "id": "73a64961",
   "metadata": {},
   "outputs": [],
   "source": [
    "credits.head(1)"
   ]
  },
  {
   "cell_type": "markdown",
   "id": "75968e9c",
   "metadata": {},
   "source": [
    "## Merge two dataframes"
   ]
  },
  {
   "cell_type": "code",
   "execution_count": null,
   "id": "da46ca8e",
   "metadata": {},
   "outputs": [],
   "source": [
    "movies = movies.merge(credits, on='title')"
   ]
  },
  {
   "cell_type": "code",
   "execution_count": null,
   "id": "a9914b68",
   "metadata": {},
   "outputs": [],
   "source": [
    "movies.head(1)"
   ]
  },
  {
   "cell_type": "markdown",
   "id": "11e0cf96",
   "metadata": {},
   "source": [
    "## We will keep this columns only \n",
    "1. **genres**\n",
    "2. **id**\n",
    "3. **keywords**\n",
    "4. **title**\n",
    "5. **overview**\n",
    "6. **cost**\n",
    "6. **crew**"
   ]
  },
  {
   "cell_type": "code",
   "execution_count": null,
   "id": "356def5f",
   "metadata": {},
   "outputs": [],
   "source": [
    "movies = movies[['movie_id', 'title', 'overview', 'genres', 'keywords', 'cast', 'crew']]"
   ]
  },
  {
   "cell_type": "code",
   "execution_count": null,
   "id": "bce039b5",
   "metadata": {},
   "outputs": [],
   "source": [
    "movies.head(1)"
   ]
  },
  {
   "cell_type": "markdown",
   "id": "d437dde8",
   "metadata": {},
   "source": [
    "**In our final dataframe we will have only three columns - movie_id, title, tags**\n",
    "\n",
    "According to this we will now prepare the data"
   ]
  },
  {
   "cell_type": "code",
   "execution_count": null,
   "id": "acac1331",
   "metadata": {},
   "outputs": [],
   "source": [
    "movies.isnull().sum() # check if there is any missing data"
   ]
  },
  {
   "cell_type": "code",
   "execution_count": null,
   "id": "9816e443",
   "metadata": {},
   "outputs": [],
   "source": [
    "movies.dropna(inplace=True) # remove missing values"
   ]
  },
  {
   "cell_type": "code",
   "execution_count": null,
   "id": "24e83430",
   "metadata": {},
   "outputs": [],
   "source": [
    "movies.duplicated().sum() # check for duplicate rows"
   ]
  },
  {
   "cell_type": "code",
   "execution_count": null,
   "id": "cdabda51",
   "metadata": {},
   "outputs": [],
   "source": [
    "movies.iloc[0].genres "
   ]
  },
  {
   "cell_type": "code",
   "execution_count": null,
   "id": "77a780d4",
   "metadata": {},
   "outputs": [],
   "source": [
    "# '[{\"id\": 28, \"name\": \"Action\"}, {\"id\": 12, \"name\": \"Adventure\"}, {\"id\": 14, \"name\": \"Fantasy\"}, {\"id\": 878, \"name\": \"Science Fiction\"}]'\n",
    "# ['Action', 'Adventure', 'Fantasy', 'Science Fiction']"
   ]
  },
  {
   "cell_type": "code",
   "execution_count": null,
   "id": "1a2f7caa",
   "metadata": {},
   "outputs": [],
   "source": [
    "# def convert(obj):\n",
    "#     l = []\n",
    "#     for i in obj:\n",
    "#         l.append(i['name'])\n",
    "#         return l"
   ]
  },
  {
   "cell_type": "markdown",
   "id": "ba149f6c",
   "metadata": {},
   "source": [
    "# convert(movies.iloc[0].genres)\n",
    "\n",
    "```\n",
    "---------------------------------------------------------------------------\n",
    "TypeError                                 Traceback (most recent call last)\n",
    "Cell In[23], line 1\n",
    "----> 1 convert(movies.iloc[0].genres)\n",
    "\n",
    "Cell In[22], line 4\n",
    "      2 l = []\n",
    "      3 for i in obj:\n",
    "----> 4     l.append(i['name'])\n",
    "      5     return l\n",
    "\n",
    "TypeError: string indices must be integers\n",
    "```\n",
    "\n",
    "- **this problem is expected because this is a string of lists**\n",
    "- **to fix this we need to convert this into a list**\n",
    "- **we will use ast python module for this.**\n",
    "(```ast.literal_eval```)"
   ]
  },
  {
   "cell_type": "code",
   "execution_count": null,
   "id": "a65465fb",
   "metadata": {},
   "outputs": [],
   "source": [
    "import ast\n",
    "def convert(obj):\n",
    "    l = []\n",
    "    for i in ast.literal_eval(obj):\n",
    "        l.append(i[\"name\"])\n",
    "    return l"
   ]
  },
  {
   "cell_type": "code",
   "execution_count": null,
   "id": "033e1cc6",
   "metadata": {},
   "outputs": [],
   "source": [
    "movies['genres'] = movies['genres'].apply(convert)\n",
    "movies['keywords'] = movies['keywords'].apply(convert)"
   ]
  },
  {
   "cell_type": "code",
   "execution_count": null,
   "id": "03fecdc4",
   "metadata": {},
   "outputs": [],
   "source": [
    "movies.head()"
   ]
  },
  {
   "cell_type": "code",
   "execution_count": null,
   "id": "25f7d5cb",
   "metadata": {},
   "outputs": [],
   "source": [
    "\n",
    "def convert2(obj):\n",
    "    l = []\n",
    "    counter = 0\n",
    "    for i in ast.literal_eval(obj):\n",
    "        if counter != 3:\n",
    "            l.append(i[\"name\"])\n",
    "            counter += 1\n",
    "        else:\n",
    "            break\n",
    "    return l"
   ]
  },
  {
   "cell_type": "code",
   "execution_count": null,
   "id": "69833d9e",
   "metadata": {},
   "outputs": [],
   "source": [
    "movies['cast'] = movies['cast'].apply(convert2)"
   ]
  },
  {
   "cell_type": "code",
   "execution_count": null,
   "id": "e838244b",
   "metadata": {},
   "outputs": [],
   "source": [
    "movies.head()"
   ]
  },
  {
   "cell_type": "code",
   "execution_count": null,
   "id": "1ea1bfe0",
   "metadata": {},
   "outputs": [],
   "source": [
    "def fetch_director(obj):\n",
    "    l = []\n",
    "    for i in ast.literal_eval(obj):\n",
    "        if i['job'] == 'Director':\n",
    "            l.append(i[\"name\"])\n",
    "            break\n",
    "    return l"
   ]
  },
  {
   "cell_type": "code",
   "execution_count": null,
   "id": "dc80277d",
   "metadata": {},
   "outputs": [],
   "source": [
    "movies['crew'] = movies['crew'].apply(fetch_director)"
   ]
  },
  {
   "cell_type": "code",
   "execution_count": null,
   "id": "66fff147",
   "metadata": {},
   "outputs": [],
   "source": [
    "movies.head()"
   ]
  },
  {
   "cell_type": "code",
   "execution_count": null,
   "id": "8580d26d",
   "metadata": {},
   "outputs": [],
   "source": [
    "movies['overview'][0]"
   ]
  },
  {
   "cell_type": "code",
   "execution_count": null,
   "id": "60ace997",
   "metadata": {},
   "outputs": [],
   "source": [
    "movies['overview'] = movies['overview'].apply(lambda x: x.split()) # convert overview text into a list of words"
   ]
  },
  {
   "cell_type": "code",
   "execution_count": null,
   "id": "8fc45736",
   "metadata": {},
   "outputs": [],
   "source": [
    "movies.head()"
   ]
  },
  {
   "cell_type": "markdown",
   "id": "86135f1b",
   "metadata": {},
   "source": [
    "## Now we need to remove spaces between the names to convert them into a single word\n",
    "\n",
    "- **Science Fiction -> ScienceFiction**\n",
    "- **Johnny Depp -> JohnnyDepp**"
   ]
  },
  {
   "cell_type": "code",
   "execution_count": null,
   "id": "4da0c59e",
   "metadata": {},
   "outputs": [],
   "source": [
    "movies['genres'] = movies['genres'].apply(lambda x:[i.replace(\" \", \"\") for i in x]) # convert genres text into a list of genres\n",
    "movies['keywords'] = movies['keywords'].apply(lambda x:[i.replace(\" \", \"\") for i in x]) # convert genres text into a list of genres\n",
    "movies['cast'] = movies['cast'].apply(lambda x:[i.replace(\" \", \"\") for i in x]) # convert genres text into a list of genres\n",
    "movies['crew'] = movies['crew'].apply(lambda x:[i.replace(\" \", \"\") for i in x]) # convert genres text into a list of genres"
   ]
  },
  {
   "cell_type": "code",
   "execution_count": null,
   "id": "ab1497f3",
   "metadata": {},
   "outputs": [],
   "source": [
    "movies.head()"
   ]
  },
  {
   "cell_type": "markdown",
   "id": "792584a3",
   "metadata": {},
   "source": [
    "## tags = overview + genres + keywords + cast + crew \n",
    "\n",
    "concatinate"
   ]
  },
  {
   "cell_type": "code",
   "execution_count": null,
   "id": "1a8f9c9b",
   "metadata": {},
   "outputs": [],
   "source": [
    "movies['tags'] = movies['overview'] + movies['genres'] + movies['keywords'] + movies['cast'] + movies['crew']"
   ]
  },
  {
   "cell_type": "code",
   "execution_count": null,
   "id": "11910d4e",
   "metadata": {},
   "outputs": [],
   "source": [
    "movies.head()"
   ]
  },
  {
   "cell_type": "code",
   "execution_count": null,
   "id": "f03e587a",
   "metadata": {},
   "outputs": [],
   "source": [
    "final_df = movies[['movie_id', 'title', 'tags']]"
   ]
  },
  {
   "cell_type": "code",
   "execution_count": null,
   "id": "60585e58",
   "metadata": {},
   "outputs": [],
   "source": [
    "final_df"
   ]
  },
  {
   "cell_type": "code",
   "execution_count": null,
   "id": "7be7b0bf",
   "metadata": {},
   "outputs": [],
   "source": [
    "final_df['tags'] = final_df['tags'].apply(lambda x: \" \".join(x)) # convert list of words into a single string"
   ]
  },
  {
   "cell_type": "code",
   "execution_count": null,
   "id": "a16173d4",
   "metadata": {},
   "outputs": [],
   "source": [
    "final_df.head()"
   ]
  },
  {
   "cell_type": "code",
   "execution_count": null,
   "id": "3b8cde06",
   "metadata": {},
   "outputs": [],
   "source": [
    "# convert to lower case\n",
    "final_df['tags'] = final_df['tags'].apply(lambda x: x.lower())"
   ]
  },
  {
   "cell_type": "code",
   "execution_count": null,
   "id": "ca6d7d59",
   "metadata": {},
   "outputs": [],
   "source": [
    "final_df.head()"
   ]
  },
  {
   "cell_type": "markdown",
   "id": "6b5f0f21",
   "metadata": {},
   "source": [
    "## apply stemming \n",
    "\n",
    "**['love', 'loving', 'loved']** <br/>\n",
    "**['love', 'love', 'love']**"
   ]
  },
  {
   "cell_type": "code",
   "execution_count": null,
   "id": "826b6ca1",
   "metadata": {},
   "outputs": [],
   "source": [
    "import nltk"
   ]
  },
  {
   "cell_type": "code",
   "execution_count": null,
   "id": "69d509bf",
   "metadata": {},
   "outputs": [],
   "source": [
    "from nltk.stem import PorterStemmer\n",
    "\n",
    "ps = PorterStemmer()"
   ]
  },
  {
   "cell_type": "code",
   "execution_count": null,
   "id": "597e24f8",
   "metadata": {},
   "outputs": [],
   "source": [
    "def stem(text):\n",
    "    y = []\n",
    "\n",
    "    for i in text.split():\n",
    "        y.append(ps.stem(i))\n",
    "    return \" \".join(y)"
   ]
  },
  {
   "cell_type": "code",
   "execution_count": null,
   "id": "1397390d",
   "metadata": {},
   "outputs": [],
   "source": [
    "final_df['tags'] = final_df['tags'].apply(stem) # apply stemming to the tags"
   ]
  },
  {
   "cell_type": "code",
   "execution_count": null,
   "id": "9d5a5388",
   "metadata": {},
   "outputs": [],
   "source": []
  },
  {
   "cell_type": "markdown",
   "id": "2dc4c9d0",
   "metadata": {},
   "source": [
    "# Using Scikit Learn"
   ]
  },
  {
   "cell_type": "code",
   "execution_count": null,
   "id": "3c918a00",
   "metadata": {},
   "outputs": [],
   "source": [
    "from sklearn.feature_extraction.text import CountVectorizer\n",
    "cv = CountVectorizer(max_features=5000, stop_words='english')"
   ]
  },
  {
   "cell_type": "code",
   "execution_count": null,
   "id": "c6fac70a",
   "metadata": {},
   "outputs": [],
   "source": [
    "vectors = cv.fit_transform(final_df['tags']).toarray() # convert tags into a matrix of token counts"
   ]
  },
  {
   "cell_type": "code",
   "execution_count": null,
   "id": "5c7c7a3b",
   "metadata": {},
   "outputs": [],
   "source": [
    "cv.get_feature_names_out() # get the feature names (words) from the CountVectorizer"
   ]
  },
  {
   "cell_type": "code",
   "execution_count": null,
   "id": "e05fb020",
   "metadata": {},
   "outputs": [],
   "source": [
    "\"\"\"\n",
    "['love', 'loving', 'loved']\n",
    "-- apply stemming (cell no. -> 37)\n",
    "['love', 'love', 'love']\n",
    "\"\"\""
   ]
  },
  {
   "cell_type": "code",
   "execution_count": null,
   "id": "2f2814c1",
   "metadata": {},
   "outputs": [],
   "source": [
    "from sklearn.metrics.pairwise import cosine_similarity"
   ]
  },
  {
   "cell_type": "code",
   "execution_count": null,
   "id": "b706ce24",
   "metadata": {},
   "outputs": [],
   "source": [
    "similarity = cosine_similarity(vectors) # calculate the cosine similarity between the vectors"
   ]
  },
  {
   "cell_type": "code",
   "execution_count": null,
   "id": "da1d1779",
   "metadata": {},
   "outputs": [],
   "source": [
    "similarity.shape # check the shape of the similarity matrix"
   ]
  },
  {
   "cell_type": "code",
   "execution_count": null,
   "id": "3a15ae56",
   "metadata": {},
   "outputs": [],
   "source": [
    "similarity[0] # check the similarity scores for the particular movie"
   ]
  },
  {
   "cell_type": "code",
   "execution_count": null,
   "id": "cdff3848",
   "metadata": {},
   "outputs": [],
   "source": [
    "sorted(list(enumerate(similarity[0])), reverse=True, key=lambda x: x[1])[1:6] # get the top 5 similar movies"
   ]
  },
  {
   "cell_type": "code",
   "execution_count": null,
   "id": "ffee3351",
   "metadata": {},
   "outputs": [],
   "source": [
    "def recomended(movie):\n",
    "    movie_idx = final_df[final_df['title'] == movie].index[0] # get the index of the movie\n",
    "    distances = similarity[movie_idx] # get the similarity scores for the movie\n",
    "    movies_list = sorted(list(enumerate(distances)), reverse=True, key=lambda x: x[1])[1:6]\n",
    "\n",
    "    for i in movies_list:\n",
    "        print(final_df.iloc[i[0]]['title'])"
   ]
  },
  {
   "cell_type": "code",
   "execution_count": null,
   "id": "6edb309c",
   "metadata": {},
   "outputs": [],
   "source": [
    "recomended('Batman') # test the recommender system with a movie title"
   ]
  },
  {
   "cell_type": "code",
   "execution_count": null,
   "id": "2c16916c",
   "metadata": {},
   "outputs": [],
   "source": []
  },
  {
   "cell_type": "code",
   "execution_count": null,
   "id": "82c7c787",
   "metadata": {},
   "outputs": [],
   "source": [
    "import pickle"
   ]
  },
  {
   "cell_type": "code",
   "execution_count": null,
   "id": "f0ca9e19",
   "metadata": {},
   "outputs": [],
   "source": [
    "pickle.dump(final_df, open('movies.pkl', 'wb')) # save the final dataframe to a pickle file"
   ]
  },
  {
   "cell_type": "code",
   "execution_count": null,
   "id": "5f117105",
   "metadata": {},
   "outputs": [],
   "source": []
  }
 ],
 "metadata": {
  "kernelspec": {
   "display_name": "Python 3 (ipykernel)",
   "language": "python",
   "name": "python3"
  },
  "language_info": {
   "codemirror_mode": {
    "name": "ipython",
    "version": 3
   },
   "file_extension": ".py",
   "mimetype": "text/x-python",
   "name": "python",
   "nbconvert_exporter": "python",
   "pygments_lexer": "ipython3",
   "version": "3.10.10"
  }
 },
 "nbformat": 4,
 "nbformat_minor": 5
}
